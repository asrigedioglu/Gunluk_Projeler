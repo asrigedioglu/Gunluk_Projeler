{
 "cells": [
  {
   "cell_type": "markdown",
   "id": "a1326a8d",
   "metadata": {},
   "source": [
    "Yazılı Ortalaması Girilen Öğrencinin Sınıf Geçme Durumunu (GEÇTİ – KALDI) Gösteren Python Örneği"
   ]
  },
  {
   "cell_type": "code",
   "execution_count": 2,
   "id": "b76ed935",
   "metadata": {},
   "outputs": [],
   "source": [
    "def basari_durumu():\n",
    "    puan=int(input(\"lütfen sınav ortalamanızı giriniz: \"))\n",
    "    print(puan)\n",
    "    \n",
    "    if puan>55:\n",
    "        print(\"tebrikler sınıfı geçtiniz\")\n",
    "        \n",
    "    else:\n",
    "        print(\"malesef sınıf tekrarı\")"
   ]
  },
  {
   "cell_type": "code",
   "execution_count": 3,
   "id": "2dc19bac",
   "metadata": {},
   "outputs": [
    {
     "name": "stdout",
     "output_type": "stream",
     "text": [
      "lütfen sınav ortalamanızı giriniz: 85\n",
      "85\n",
      "tebrikler sınıfı geçtiniz\n"
     ]
    }
   ],
   "source": [
    "basari_durumu()"
   ]
  },
  {
   "cell_type": "markdown",
   "id": "6c62cd53",
   "metadata": {},
   "source": [
    "# Girilen Sayının Tek mi Çift mi Olduğunu Bulan Python Örneği."
   ]
  },
  {
   "cell_type": "code",
   "execution_count": 11,
   "id": "2a227c7e",
   "metadata": {},
   "outputs": [],
   "source": [
    "def sayi():\n",
    "    x=int(input(\"sayı giriniz\"))\n",
    "    if x%2==0:\n",
    "        print(\"çift\")\n",
    "    else:\n",
    "        print(\"tek\")"
   ]
  },
  {
   "cell_type": "code",
   "execution_count": 12,
   "id": "fa841b13",
   "metadata": {},
   "outputs": [
    {
     "name": "stdout",
     "output_type": "stream",
     "text": [
      "sayı giriniz5\n",
      "tek\n"
     ]
    }
   ],
   "source": [
    "sayi()"
   ]
  },
  {
   "cell_type": "markdown",
   "id": "284ffdfa",
   "metadata": {},
   "source": [
    "# Girilen Sayının Pozitif, Negatif, ya da 0 Olduğunu Bulan Python Örneği"
   ]
  },
  {
   "cell_type": "code",
   "execution_count": 3,
   "id": "8f2ed8a3",
   "metadata": {},
   "outputs": [],
   "source": [
    "def pozitif_negatif():\n",
    "    x=int(input(\"değer:\"))\n",
    "    \n",
    "    if x>0:\n",
    "        print(\"pozitif\")\n",
    "    elif x==0:\n",
    "        print(\"nötr\")\n",
    "    else:\n",
    "        print(\"negatif\")\n"
   ]
  },
  {
   "cell_type": "code",
   "execution_count": 4,
   "id": "d39a5147",
   "metadata": {},
   "outputs": [
    {
     "name": "stdout",
     "output_type": "stream",
     "text": [
      "değer:54\n",
      "pozitif\n"
     ]
    }
   ],
   "source": [
    "pozitif_negatif()"
   ]
  },
  {
   "cell_type": "markdown",
   "id": "0ea5e78b",
   "metadata": {},
   "source": [
    "# Kullanıcının girdiği boy ve ağırlık değerlerine göre vücut kitle indeksini (VKİ=ağırlık/(boy*boy), boymetre cinsinden verilmeli) hesaplayınız.\n",
    "\n",
    "VKİ 18 ile < 25 aralığındaysa normal, VKİ 25 ile <30 aralığındaysa kilolu, VKİ 30 ve daha yüksekse obez, VKİ 35 ve daha fazlaysa ciddi obez olarak kabul edilir. VKİ’ni hesaplayarak kişinin durumunu yazdırınız"
   ]
  },
  {
   "cell_type": "code",
   "execution_count": null,
   "id": "5aa78581",
   "metadata": {},
   "outputs": [],
   "source": []
  },
  {
   "cell_type": "code",
   "execution_count": null,
   "id": "e05dac13",
   "metadata": {},
   "outputs": [],
   "source": []
  },
  {
   "cell_type": "code",
   "execution_count": 30,
   "id": "327b2c75",
   "metadata": {},
   "outputs": [],
   "source": [
    "def kitle_endeksi():\n",
    "    \n",
    "    agırlık= int(input(\"kilo:\"))\n",
    "    boy= float(input(\"boy:\"))            \n",
    "    \n",
    "    vki = int(agırlık/(boy*boy))\n",
    "    print(vki)\n",
    "    \n",
    "    if vki>18 and vki<25:\n",
    "        print(\"normal\")\n",
    "    \n",
    "    elif vki>25 and vki<30:\n",
    "        print(\"kilolu\")\n",
    "        \n",
    "    elif vki>30 and vki<35:\n",
    "        print(\"obez\")\n",
    "        \n",
    "    elif vki>=35 :\n",
    "        print(\"ciddi obez\")\n",
    "    \n",
    "    \n"
   ]
  },
  {
   "cell_type": "code",
   "execution_count": 31,
   "id": "0ed73c56",
   "metadata": {},
   "outputs": [
    {
     "name": "stdout",
     "output_type": "stream",
     "text": [
      "kilo:100\n",
      "boy:1.85\n",
      "29\n",
      "kilolu\n"
     ]
    }
   ],
   "source": [
    "kitle_endeksi()\n"
   ]
  },
  {
   "cell_type": "markdown",
   "id": "c83ac8f5",
   "metadata": {},
   "source": [
    "# Yaşı Girilen Kişinin Ehliyet Alıp Alamayacağını Gösteren Python Örneği"
   ]
  },
  {
   "cell_type": "code",
   "execution_count": 9,
   "id": "351a12b5",
   "metadata": {},
   "outputs": [],
   "source": [
    "def ehliyet_almak():\n",
    "    yas=int(input(\"yaş:\"))\n",
    "    if yas>18:\n",
    "        print(\"alabilir.\")    \n",
    "    else:\n",
    "        print(\"alamaz\")\n",
    "        \n",
    "    return"
   ]
  },
  {
   "cell_type": "code",
   "execution_count": 10,
   "id": "f66bf79a",
   "metadata": {},
   "outputs": [
    {
     "name": "stdout",
     "output_type": "stream",
     "text": [
      "yaş:41\n",
      "alabilir.\n"
     ]
    }
   ],
   "source": [
    "ehliyet_almak()"
   ]
  },
  {
   "cell_type": "markdown",
   "id": "f773c131",
   "metadata": {},
   "source": [
    "# 1-100 Arası Sayıları Ekranda Listeleyen Python Örneği."
   ]
  },
  {
   "cell_type": "code",
   "execution_count": 12,
   "id": "97b0c91b",
   "metadata": {},
   "outputs": [
    {
     "name": "stdout",
     "output_type": "stream",
     "text": [
      "0\n",
      "5\n",
      "10\n",
      "15\n",
      "20\n",
      "25\n",
      "30\n",
      "35\n",
      "40\n",
      "45\n",
      "50\n",
      "55\n",
      "60\n",
      "65\n",
      "70\n",
      "75\n",
      "80\n",
      "85\n",
      "90\n",
      "95\n"
     ]
    }
   ],
   "source": [
    "for i in range (0,100,5):\n",
    "    print(i)"
   ]
  },
  {
   "cell_type": "markdown",
   "id": "72fdc608",
   "metadata": {},
   "source": [
    "# 1-100 arası Çift Sayıları Listeleyen Python Örneği."
   ]
  },
  {
   "cell_type": "code",
   "execution_count": 14,
   "id": "e6290c47",
   "metadata": {},
   "outputs": [
    {
     "name": "stdout",
     "output_type": "stream",
     "text": [
      "0\n",
      "2\n",
      "4\n",
      "6\n",
      "8\n",
      "10\n",
      "12\n",
      "14\n",
      "16\n",
      "18\n",
      "20\n",
      "22\n",
      "24\n",
      "26\n",
      "28\n",
      "30\n",
      "32\n",
      "34\n",
      "36\n",
      "38\n",
      "40\n",
      "42\n",
      "44\n",
      "46\n",
      "48\n",
      "50\n",
      "52\n",
      "54\n",
      "56\n",
      "58\n",
      "60\n",
      "62\n",
      "64\n",
      "66\n",
      "68\n",
      "70\n",
      "72\n",
      "74\n",
      "76\n",
      "78\n",
      "80\n",
      "82\n",
      "84\n",
      "86\n",
      "88\n",
      "90\n",
      "92\n",
      "94\n",
      "96\n",
      "98\n"
     ]
    }
   ],
   "source": [
    "for i in range (0,100,2):\n",
    "    print(i)"
   ]
  },
  {
   "cell_type": "markdown",
   "id": "8b0670b7",
   "metadata": {},
   "source": [
    "# 1-100 Arası 3′ e ve 5′ e tam bölünen sayıları bulan Python Örneği"
   ]
  },
  {
   "cell_type": "code",
   "execution_count": 16,
   "id": "7c6033f2",
   "metadata": {},
   "outputs": [
    {
     "name": "stdout",
     "output_type": "stream",
     "text": [
      "0\n",
      "15\n",
      "30\n",
      "45\n",
      "60\n",
      "75\n",
      "90\n"
     ]
    }
   ],
   "source": [
    "for i in range (100):\n",
    "    if i%3==0 and i%5==0:\n",
    "        print(i)"
   ]
  },
  {
   "cell_type": "markdown",
   "id": "6c37a3c6",
   "metadata": {},
   "source": [
    "# Kenarları Girilen Dikdörtgenin Alanı ve Çevresini Bulan Python Örneği"
   ]
  },
  {
   "cell_type": "code",
   "execution_count": 32,
   "id": "e2a450a9",
   "metadata": {},
   "outputs": [
    {
     "name": "stdout",
     "output_type": "stream",
     "text": [
      "kısa kenar giriniz: 10\n",
      "uzun kenar giriniz: 20\n",
      "alan: 200\n",
      "çevre: 60\n"
     ]
    }
   ],
   "source": [
    "\n",
    "kısa=int(input(\"kısa kenar giriniz: \"))\n",
    "uzun=int(input(\"uzun kenar giriniz: \"))\n",
    "    \n",
    "alan=kısa*uzun\n",
    "cevre=kısa*2 + uzun*2\n",
    "\n",
    "print(\"alan: \"+ str(alan))\n",
    "print(\"çevre: \"+ str(cevre))"
   ]
  },
  {
   "cell_type": "markdown",
   "id": "6093787e",
   "metadata": {},
   "source": [
    "# Girilen metnin harflerini alt alta yazdıran Python Örneği"
   ]
  },
  {
   "cell_type": "code",
   "execution_count": 33,
   "id": "91ab403f",
   "metadata": {},
   "outputs": [
    {
     "name": "stdout",
     "output_type": "stream",
     "text": [
      "metin giriniz: asrı gedioğlu\n",
      "a\n",
      "s\n",
      "r\n",
      "ı\n",
      " \n",
      "g\n",
      "e\n",
      "d\n",
      "i\n",
      "o\n",
      "ğ\n",
      "l\n",
      "u\n"
     ]
    }
   ],
   "source": [
    "metin = input(\"metin giriniz: \")\n",
    "for harf in metin:\n",
    "    print(harf)"
   ]
  },
  {
   "cell_type": "markdown",
   "id": "f0ad1f7e",
   "metadata": {},
   "source": [
    "# Kullanıcın girdiği iki sayı arasındaki sayıların toplamını gösteren Python Örneği.\n",
    "\n",
    "\n"
   ]
  },
  {
   "cell_type": "code",
   "execution_count": 41,
   "id": "49b241dd",
   "metadata": {},
   "outputs": [
    {
     "name": "stdout",
     "output_type": "stream",
     "text": [
      "1.sayıyı giriniz: 2\n",
      "2.sayıyı giriniz: 5\n",
      "2 ile 5 arasındaki sayıların toplamı : 9\n"
     ]
    }
   ],
   "source": [
    "sayi1= int(input(\"1.sayıyı giriniz: \"))\n",
    "sayi2= int(input(\"2.sayıyı giriniz: \"))\n",
    "\n",
    "toplam=0\n",
    "for s in range(sayi1,sayi2):\n",
    "    toplam += s\n",
    "print(\"{0} ile {1} arasındaki sayıların toplamı : {2}\".format(sayi1,sayi2,toplam))\n",
    " \n"
   ]
  },
  {
   "cell_type": "markdown",
   "id": "3376106b",
   "metadata": {},
   "source": [
    "# Kullanıcıya sinema ya da tiyatro tercihi sorulsun. Sinema izlemek için 15 TL, tiyatro için 10 TL ödenmesi gerekmedir. Öğrencilere %50 indirim yapıldığı düşünülerek öğrenci ise indirim yapılan; öğrenci değilse indirimsiz tutarı hesaplayarak ekrana yazdıran kodu yazınız."
   ]
  },
  {
   "cell_type": "code",
   "execution_count": 29,
   "id": "5d85426c",
   "metadata": {},
   "outputs": [
    {
     "name": "stdout",
     "output_type": "stream",
     "text": [
      "sinema için (s) / tiyatro için (t) : t\n",
      "t\n",
      "öğrenci (e) / değil (h): h\n",
      "h\n",
      "tercihiniz t olduğu için ve h olduğunuz için ödemeniz gereken fiyat: 10\n",
      "\n"
     ]
    }
   ],
   "source": [
    "secim= (input(\"sinema için (s) / tiyatro için (t) : \"))\n",
    "print(secim)\n",
    "\n",
    "kisi= (input(\"öğrenci (e) / değil (h): \"))\n",
    "print(kisi)\n",
    "    \n",
    "fiyat=0\n",
    "\n",
    "if secim == \"s\" :\n",
    "    fiyat = 15\n",
    "        \n",
    "    if kisi == \"e\" :\n",
    "        fiyat = 15-(15*0.50)\n",
    "    elif kisi== h:\n",
    "        fiyat= 15\n",
    "    print(\"tercihiniz {0} olduğu için ve {1} olduğunuz için ödemeniz gereken fiyat: {2}\".format(secim,kisi,fiyat))\n",
    "    \n",
    "\n",
    "elif secim== \"t\":\n",
    "    fiyat= 10\n",
    "        \n",
    "    if kisi == \"e\":\n",
    "        fiyat=10-(10*0.50)\n",
    "    \n",
    "    elif kisi == \"h\":\n",
    "        fiyat=10\n",
    "    print(\"Tercihiniz {0} olduğu için ve {1} olduğunuz için ödemeniz gereken fiyat: {2}\".format(secim,kisi,fiyat))\n",
    "    \n",
    "print() \n"
   ]
  },
  {
   "cell_type": "markdown",
   "id": "67ee2c38",
   "metadata": {},
   "source": [
    "# Girilen Sayının Asal Sayı mı Değil mi olduğunu bulan Python Örneği\n"
   ]
  },
  {
   "cell_type": "code",
   "execution_count": 36,
   "id": "ec2a2ce1",
   "metadata": {},
   "outputs": [
    {
     "name": "stdout",
     "output_type": "stream",
     "text": [
      "lütfen sayı giriniz: 7\n",
      "Sayı Asal\n",
      "0\n"
     ]
    }
   ],
   "source": [
    "sayi= int(input(\"lütfen sayı giriniz: \"))\n",
    "sayac=0\n",
    "\n",
    "for i in range(2,sayi):\n",
    "    \n",
    "    if sayi%i==0:\n",
    "        sayac+=1\n",
    "        \n",
    "if(sayac!=0):\n",
    "    print(\"Sayı Asal Değil\")\n",
    "else:\n",
    "    print(\"Sayı Asal\")\n",
    "    \n",
    "print(sayac)\n",
    "    \n",
    "    \n",
    "    \n",
    "\n"
   ]
  },
  {
   "cell_type": "markdown",
   "id": "203c143a",
   "metadata": {},
   "source": [
    "# 1 den kullanıcının girmiş olduğu sayıya kadar olan tek ve çift sayıların toplamını ayrı ayrı bulan ve sonucu ekranda gösteren Python Örneği"
   ]
  },
  {
   "cell_type": "code",
   "execution_count": 43,
   "id": "193158fa",
   "metadata": {},
   "outputs": [
    {
     "name": "stdout",
     "output_type": "stream",
     "text": [
      "lütfen sayı giriniz: 7\n",
      "ÇİFT SAYILAR TOPLAMI: 12\n",
      "TEK SAYILAR TOPLAMI: 9\n"
     ]
    }
   ],
   "source": [
    "sayi= int(input(\"lütfen sayı giriniz: \"))\n",
    "tek=0\n",
    "cift=0\n",
    "\n",
    "for i in range(0,sayi,2):\n",
    "    cift +=i\n",
    "print(\"ÇİFT SAYILAR TOPLAMI: {0}\".format(cift))\n",
    "\n",
    "for i in range(1,sayi,2):\n",
    "    tek +=i\n",
    "print(\"TEK SAYILAR TOPLAMI: {0}\".format(tek))"
   ]
  },
  {
   "cell_type": "markdown",
   "id": "738ca424",
   "metadata": {},
   "source": [
    "# Maaşı ve zam oranı girilen işçinin zamlı maaşını hesaplayarak ekranda gösteren Python örneği:"
   ]
  },
  {
   "cell_type": "code",
   "execution_count": 51,
   "id": "76109bbc",
   "metadata": {},
   "outputs": [
    {
     "name": "stdout",
     "output_type": "stream",
     "text": [
      "maaşınız: 12000\n",
      "zam oranı: 0.30\n",
      "Yeni Maaşınız: 15600.0\n"
     ]
    }
   ],
   "source": [
    "    yeniMaas=0\n",
    "    maas=int(input(\"maaşınız: \"))\n",
    "    zamOranı=float(input(\"zam oranı: \"))\n",
    "                 \n",
    "    zamlıMaas = maas*zamOranı\n",
    "    yeniMaas= zamlıMaas + maas\n",
    "    print(\"Yeni Maaşınız: {0}\".format(yeniMaas))\n",
    "\n",
    "    "
   ]
  },
  {
   "cell_type": "markdown",
   "id": "fd9e3c46",
   "metadata": {},
   "source": [
    "# Fonksiyon kullanarak yarıçapı girilen dairenin alanını hesaplayan Python örneği:\n",
    "\n"
   ]
  },
  {
   "cell_type": "markdown",
   "id": "20617fc2",
   "metadata": {},
   "source": [
    " daire alan formül = πr2"
   ]
  },
  {
   "cell_type": "code",
   "execution_count": 72,
   "id": "560dcb47",
   "metadata": {},
   "outputs": [],
   "source": [
    "def daire_alan(r):\n",
    "    pi=3.14\n",
    "    r=int(input(\"yarıçapı giriniz: \"))**2\n",
    "    formul=pi*r\n",
    "    \n",
    "    return formul\n",
    "    print(formul)\n"
   ]
  },
  {
   "cell_type": "code",
   "execution_count": 73,
   "id": "7bae25f2",
   "metadata": {},
   "outputs": [
    {
     "name": "stdout",
     "output_type": "stream",
     "text": [
      "yarıçapı giriniz: 3\n"
     ]
    },
    {
     "data": {
      "text/plain": [
       "28.26"
      ]
     },
     "execution_count": 73,
     "metadata": {},
     "output_type": "execute_result"
    }
   ],
   "source": [
    "daire_alan(3)"
   ]
  },
  {
   "cell_type": "markdown",
   "id": "2658ce33",
   "metadata": {},
   "source": [
    "# Fonksiyon kullanarak genişliği ve yüksekliği girilen dikdörtgenin alanını hesaplayan Python örneği:"
   ]
  },
  {
   "cell_type": "code",
   "execution_count": 83,
   "id": "98cffaca",
   "metadata": {},
   "outputs": [
    {
     "name": "stdout",
     "output_type": "stream",
     "text": [
      "genişlik girin: 10\n",
      "yükseklik girin: 13\n",
      "130.0\n"
     ]
    },
    {
     "data": {
      "text/plain": [
       "130.0"
      ]
     },
     "execution_count": 83,
     "metadata": {},
     "output_type": "execute_result"
    }
   ],
   "source": [
    "def dikdörtgen_alan(genislik,yukseklik):\n",
    "    alan2=float(genislik)*float(yukseklik)\n",
    "    print(alan2)\n",
    "    return alan2\n",
    "\n",
    "\n",
    "gen=float(input(\"genişlik girin: \"))\n",
    "yuk=float(input(\"yükseklik girin: \"))\n",
    "\n",
    "dikdörtgen_alan(gen,yuk)"
   ]
  },
  {
   "cell_type": "markdown",
   "id": "bb4b30f3",
   "metadata": {},
   "source": [
    "# Python ile Sayı Tahmin Oyunu Yapımı."
   ]
  },
  {
   "cell_type": "code",
   "execution_count": 1,
   "id": "7e25ed9b",
   "metadata": {},
   "outputs": [],
   "source": [
    "from random import randint"
   ]
  },
  {
   "cell_type": "code",
   "execution_count": null,
   "id": "adeaf6bf",
   "metadata": {},
   "outputs": [],
   "source": [
    "rastgele= randint(0,100)\n",
    "print(rastgele)\n",
    "\n",
    "while True:\n",
    "    \n",
    "    sayi= int(input(\"lütfen aklınıza gelen sayıyı yazın:   (0 oyundan çıkış) \"))\n",
    "    \n",
    "    if (sayi==0):\n",
    "        print(\"oyun bitti\")\n",
    "        break\n",
    "    \n",
    "    elif sayi<rastgele:\n",
    "        print(\"daha yüksek bir sayı girin:\")\n",
    "        continue\n",
    "\n",
    "    elif sayi>rastgele:\n",
    "        print(\"daha düşük bir sayı girin\")\n",
    "        continue\n",
    "    \n",
    "    "
   ]
  },
  {
   "cell_type": "markdown",
   "id": "2b53258b",
   "metadata": {},
   "source": [
    "# Verilen bir tarihin yılın kaçıncı günü olduğunu bulan Python Örneği."
   ]
  },
  {
   "cell_type": "markdown",
   "id": "01eeb88d",
   "metadata": {},
   "source": [
    "# Python ile bir liste içinde 5’in katları olan sayıları listeleme."
   ]
  },
  {
   "cell_type": "code",
   "execution_count": 14,
   "id": "c9efaf8d",
   "metadata": {},
   "outputs": [
    {
     "name": "stdout",
     "output_type": "stream",
     "text": [
      "15: 5'in katı olan sayıdır.\n",
      "85: 5'in katı olan sayıdır.\n",
      "65: 5'in katı olan sayıdır.\n",
      "30: 5'in katı olan sayıdır.\n",
      "10: 5'in katı olan sayıdır.\n",
      "20: 5'in katı olan sayıdır.\n",
      "5: 5'in katı olan sayıdır.\n",
      " \n",
      "DÖNGÜ BİTTİ.\n",
      "5'İN KATI OLAN SAYILAR :7\n"
     ]
    }
   ],
   "source": [
    "sayilar = [18,22,15,85,65,30,10,20,32,34,28,101,5,4,32]\n",
    "liste= 0\n",
    "for a in sayilar:\n",
    "    if a%5==0:\n",
    "        print(str(a)  +\": \" + \"5'in katı olan sayıdır.\")\n",
    "        liste+=1\n",
    "    \n",
    "else:\n",
    "    print(\" \")\n",
    "    print(\"DÖNGÜ BİTTİ.\")\n",
    "        \n",
    "print(\"5'İN KATI OLAN SAYILAR :\" + str(liste))\n"
   ]
  },
  {
   "cell_type": "markdown",
   "id": "24180a1d",
   "metadata": {},
   "source": [
    "# Bir string içerisinde belirlenen bir karakterin olup olmadığını kontrol eden Python programı kodları. Kontrol etme işlemi fonksiyon içinde yapılmıştır."
   ]
  },
  {
   "cell_type": "code",
   "execution_count": 21,
   "id": "841c0675",
   "metadata": {},
   "outputs": [
    {
     "name": "stdout",
     "output_type": "stream",
     "text": [
      "lütfen metin giriniz: afiyet olsun\n",
      "metin içinde f harfi vardır\n"
     ]
    }
   ],
   "source": [
    "\n",
    "def kontrol(metin):\n",
    "    sayac=0\n",
    "    for ch in metin:\n",
    "        ch = \"f\"\n",
    "        sayac+=1\n",
    "    \n",
    "    return True\n",
    "\n",
    "metin=input(\"lütfen metin giriniz: \")\n",
    "\n",
    "if kontrol(metin)==True:\n",
    "    print(\"metin içinde f harfi vardır\")\n",
    "else:\n",
    "    print(\"f harfi yok\")\n",
    "        "
   ]
  },
  {
   "cell_type": "markdown",
   "id": "a754f765",
   "metadata": {},
   "source": [
    "# Kullanıcının girdiği 2 sayı arasındaki çift sayıların ortalamasını bulan Python örneği. Sayının çift olup olmadığı fonksiyon ile kontrol ediliyor."
   ]
  },
  {
   "cell_type": "code",
   "execution_count": 5,
   "id": "a48b3b58",
   "metadata": {},
   "outputs": [
    {
     "name": "stdout",
     "output_type": "stream",
     "text": [
      "İLK SAYI: 2\n",
      "SON SAYI: 20\n",
      "Ortalama: 10.0\n"
     ]
    }
   ],
   "source": [
    "def kontrol_2(x):\n",
    "   \n",
    "    return x%2==0\n",
    "\n",
    "baslangic=int(input(\"İLK SAYI: \"))\n",
    "son=int(input(\"SON SAYI: \"))\n",
    "toplam=0\n",
    "sayac=0\n",
    "\n",
    "\n",
    "for i in range(baslangic,son):\n",
    "    if kontrol_2(i):\n",
    "        toplam+=i\n",
    "        sayac+=1\n",
    "    \n",
    "    formul=toplam/sayac\n",
    "\n",
    "print(\"Ortalama: \" + str(formul))\n",
    "        "
   ]
  },
  {
   "cell_type": "markdown",
   "id": "ed06d783",
   "metadata": {},
   "source": [
    "# Belirli bir sayının faktöriyelini hesaplayabilen bir program yazınız. Sonuçlar tek bir satıra virgülle ayrılmış bir sırayla yazdırılmalıdır."
   ]
  },
  {
   "cell_type": "code",
   "execution_count": 7,
   "id": "e3947f14",
   "metadata": {},
   "outputs": [
    {
     "name": "stdout",
     "output_type": "stream",
     "text": [
      "Bir değer girin:5\n",
      "sonuc: 120\n"
     ]
    }
   ],
   "source": [
    "def fak(x):\n",
    "    if x == 0:\n",
    "        return 1\n",
    "    return x * fak(x - 1)\n",
    " \n",
    "x=int(input(\"Bir değer girin:\"))\n",
    "print (\"sonuc:\",fak(x))\n",
    " "
   ]
  },
  {
   "cell_type": "markdown",
   "id": "c27c6033",
   "metadata": {},
   "source": [
    "# Kullanıcı tarafından girilen sayının rakamlarını çarpan program(sıfırları hariç tut)"
   ]
  },
  {
   "cell_type": "code",
   "execution_count": 16,
   "id": "598f2457",
   "metadata": {},
   "outputs": [
    {
     "name": "stdout",
     "output_type": "stream",
     "text": [
      "sayı gir: 650\n",
      "Rakamların Çarpımı : 30\n"
     ]
    }
   ],
   "source": [
    "carpim=1\n",
    "sayi=input(\"sayı gir: \")\n",
    "for ch in str(sayi):\n",
    "    if int(ch) != 0:\n",
    "        carpim*= int(ch)\n",
    "        \n",
    "print(\"Rakamların Çarpımı : \" + str(carpim))\n",
    "        \n",
    "\n",
    "        "
   ]
  },
  {
   "cell_type": "markdown",
   "id": "3a7f1ce3",
   "metadata": {},
   "source": [
    "# KARNE HESAP\n",
    "Adım 1: Başla\n",
    "Adım 2: Ortalamayı gir\n",
    "Adım 3: Eğer ortalama 70’den küçük ise, ekrana “Belge yok” yaz ve Adım 5’e git\n",
    "Adım 4: Eğer ortalama 85 ve büyükse, ekrana “Takdir” değilse “Teşekkür” yaz ve Adım 5’e git\n",
    "Adım 5: Bitir"
   ]
  },
  {
   "cell_type": "markdown",
   "id": "62bb9444",
   "metadata": {},
   "source": [
    " "
   ]
  },
  {
   "cell_type": "code",
   "execution_count": 5,
   "id": "c5f80e29",
   "metadata": {},
   "outputs": [
    {
     "name": "stdout",
     "output_type": "stream",
     "text": [
      "LÜTFEN ORTALAMA GİR: 85\n",
      "takdir\n"
     ]
    }
   ],
   "source": [
    "ortalama=int(input(\"LÜTFEN ORTALAMA GİR: \"))\n",
    "if ortalama<70:\n",
    "    print(\"belge yok\")\n",
    "elif ortalama>= 85:\n",
    "    print(\"takdir\")"
   ]
  },
  {
   "cell_type": "markdown",
   "id": "d6c528e0",
   "metadata": {},
   "source": [
    "# Girilen 2 Sayıdan Büyük Olanı Bulma\n",
    "Kullanıcı tarafından girilen iki sayıdan büyük olanı bulunuz."
   ]
  },
  {
   "cell_type": "code",
   "execution_count": 4,
   "id": "b1928161",
   "metadata": {},
   "outputs": [
    {
     "name": "stdout",
     "output_type": "stream",
     "text": [
      "lütfen 1. sayıyı giriniz : 45\n",
      "lütfen 2. sayıyı giriniz : 85\n",
      "BÜYÜK OLAN SAYI:85\n"
     ]
    }
   ],
   "source": [
    "def maxOfTwo(x,y):\n",
    "    if x > y:\n",
    "        return x\n",
    "    else:\n",
    "        return y \n",
    "    \n",
    "sayi1=int(input(\"lütfen 1. sayıyı giriniz : \"))\n",
    "sayi2=int(input(\"lütfen 2. sayıyı giriniz : \"))\n",
    "\n",
    "maxOfTwo(sayi1,sayi2)\n",
    "print(\"BÜYÜK OLAN SAYI:\" + str(maxOfTwo(sayi1,sayi2)"
   ]
  },
  {
   "cell_type": "markdown",
   "id": "6fcc2ffe",
   "metadata": {},
   "source": [
    "# Liste İçindeki Sayıların Çarpımını Bulma"
   ]
  },
  {
   "cell_type": "code",
   "execution_count": 23,
   "id": "aa4816df",
   "metadata": {},
   "outputs": [
    {
     "name": "stdout",
     "output_type": "stream",
     "text": [
      "sayıların çarpımı :120\n"
     ]
    }
   ],
   "source": [
    "def multiply(liste):\n",
    "    carpim = 1\n",
    "    \n",
    "    for i in liste:\n",
    "        carpim *= i \n",
    "    return carpim\n",
    "\n",
    "new_carpim = multiply([1,2,3,4,5])\n",
    "print(f'sayıların çarpımı :{new_carpim}')"
   ]
  },
  {
   "cell_type": "markdown",
   "id": "406216c6",
   "metadata": {},
   "source": [
    "# Liste İçindeki Sayıların 2 Katını Alıp Listeye Yazdırma\n",
    "Aşağıdaki listede verilmiş sayıların iki katını alıp listeleyen fonksiyonu yazınız:"
   ]
  },
  {
   "cell_type": "markdown",
   "id": "2da58df5",
   "metadata": {},
   "source": [
    "# Python Listedeki Pozitif ve Negatif Sayıları Sayan Program\n",
    "Kullanıcıdan alınan listedeki sayıların kaç tanesi pozitif, kaç tanesi negatif olduğunu ekrana yazdıran Python kodunu yazdırınız."
   ]
  },
  {
   "cell_type": "code",
   "execution_count": 1,
   "id": "5516c00b",
   "metadata": {},
   "outputs": [],
   "source": []
  },
  {
   "cell_type": "code",
   "execution_count": 38,
   "id": "53c7ddf9",
   "metadata": {},
   "outputs": [
    {
     "name": "stdout",
     "output_type": "stream",
     "text": [
      "POZİTİF: 3\n",
      "NEGATİF: 3\n"
     ]
    }
   ],
   "source": [
    "\n",
    "liste = [-1,5,8,-8,-7,9]\n",
    "negatif=0\n",
    "pozitif=0\n",
    "\n",
    "for i in liste:   \n",
    "    if int(i)>0:\n",
    "        pozitif += 1\n",
    "    else:\n",
    "        negatif += 1\n",
    "           \n",
    "print(\"POZİTİF: \" + str(pozitif))\n",
    "\n",
    "print(\"NEGATİF: \"+ str(negatif))\n"
   ]
  },
  {
   "cell_type": "markdown",
   "id": "d4a704c7",
   "metadata": {},
   "source": [
    "# Python Döngü Kullanarak Eleman Arama\n",
    "Soru : Kullanıcıdan alınan liste içerisinde, yine kullanıcıdan alınan sayı indeksini ekrana yazdıran Python kodunu yazınız.\n"
   ]
  },
  {
   "cell_type": "code",
   "execution_count": 1,
   "id": "07fb1b13",
   "metadata": {},
   "outputs": [
    {
     "name": "stdout",
     "output_type": "stream",
     "text": [
      "56\n"
     ]
    }
   ],
   "source": [
    "\n"
   ]
  },
  {
   "cell_type": "code",
   "execution_count": 12,
   "id": "0521f9c2",
   "metadata": {},
   "outputs": [
    {
     "name": "stdout",
     "output_type": "stream",
     "text": [
      "56\n",
      "ELEMAN VAR\n",
      "ELEMANIN İNDEKSİ:4\n"
     ]
    }
   ],
   "source": [
    "liste = [8,120,685,975,56]\n",
    "eleman= int(input())\n",
    "\n",
    "if eleman in liste:\n",
    "    print(\"ELEMAN VAR\") \n",
    "    print(\"ELEMANIN İNDEKSİ:\" + str(liste.index(eleman)))\n",
    "\n",
    "    \n",
    "else:\n",
    "    print(\"eleman yok\")\n",
    "    \n"
   ]
  },
  {
   "cell_type": "markdown",
   "id": "274e01fe",
   "metadata": {},
   "source": [
    "# Aracın Yakıt Masrafını Hesaplayan Python Örneği\n",
    "Soru: Aracın gittiği toplam km’deki yakıt masrafını hesaplayan kodu yazınız."
   ]
  },
  {
   "cell_type": "code",
   "execution_count": 17,
   "id": "331a6065",
   "metadata": {},
   "outputs": [
    {
     "name": "stdout",
     "output_type": "stream",
     "text": [
      "KM: 10\n",
      "Araç 10 km yolda 12.0 tl masraf eder\n"
     ]
    }
   ],
   "source": [
    "km= input(\"KM: \")\n",
    "benzin= 0.06*20\n",
    "# araç 1 km 'de 0,06 lt yakar.litre başı 20tl\n",
    "\n",
    "def masraf(km):\n",
    "    return float(km)*float(benzin)\n",
    "\n",
    "print(\"Araç {0} km yolda {1} tl masraf eder.\".format(km,masraf(km)))"
   ]
  },
  {
   "cell_type": "markdown",
   "id": "c4a81e64",
   "metadata": {},
   "source": [
    "# HESAP MAKİNESİ "
   ]
  },
  {
   "cell_type": "code",
   "execution_count": 7,
   "id": "c40ccb14",
   "metadata": {},
   "outputs": [
    {
     "name": "stdout",
     "output_type": "stream",
     "text": [
      "İLK SAYI: 10\n",
      "İKİNCİ SAYI: 5\n",
      "LÜTFEN +-*/ BİRİNİ GİRİNİZ: /\n",
      "x / y = 2.0\n"
     ]
    }
   ],
   "source": [
    "def hesapmakinesi (x,y,isaret):\n",
    "    \n",
    "    if isaret==\"+\":\n",
    "        return(\"x + y = \" + str(x+y))\n",
    "    if isaret==\"-\":\n",
    "        return(\"x - y = \" + str(x-y))\n",
    "    if isaret==\"*\":\n",
    "        return(\"x * y = \" + str(x*y))\n",
    "    if isaret==\"/\":\n",
    "        return(\"x / y = \" + str(x/y))\n",
    "    \n",
    "    \n",
    "\n",
    "x=int(input(\"İLK SAYI: \"))\n",
    "y=int(input(\"İKİNCİ SAYI: \"))\n",
    "isaret=input(\"LÜTFEN +-*/ BİRİNİ GİRİNİZ: \" )    \n",
    "\n",
    "print(hesapmakinesi(x,y,isaret))"
   ]
  },
  {
   "cell_type": "markdown",
   "id": "4ce2b3d6",
   "metadata": {},
   "source": [
    "# Öğrenci No Ayırma Python Örneği\n"
   ]
  },
  {
   "cell_type": "code",
   "execution_count": 9,
   "id": "5c2ad519",
   "metadata": {},
   "outputs": [
    {
     "name": "stdout",
     "output_type": "stream",
     "text": [
      "ÖĞRENCİ NO: 1206180147\n",
      "FAKULTE=12\n",
      "BOLUM=06\n",
      "YIL=18\n",
      "SIRA=0147\n"
     ]
    }
   ],
   "source": [
    "no= str(input(\"ÖĞRENCİ NO:\"))\n",
    "d1 = dict(FAKULTE= no[:2],BOLUM= no[2:4],YIL= no[4:6],SIRA= no[6:])\n",
    "\n",
    "for i in d1.items():\n",
    "    print(i[0] + \"=\" + i[1])"
   ]
  },
  {
   "cell_type": "code",
   "execution_count": 2,
   "id": "1943cfb2",
   "metadata": {},
   "outputs": [
    {
     "ename": "NameError",
     "evalue": "name 'd1' is not defined",
     "output_type": "error",
     "traceback": [
      "\u001b[1;31m---------------------------------------------------------------------------\u001b[0m",
      "\u001b[1;31mNameError\u001b[0m                                 Traceback (most recent call last)",
      "Cell \u001b[1;32mIn[2], line 1\u001b[0m\n\u001b[1;32m----> 1\u001b[0m \u001b[38;5;28mtype\u001b[39m(\u001b[43md1\u001b[49m)\n",
      "\u001b[1;31mNameError\u001b[0m: name 'd1' is not defined"
     ]
    }
   ],
   "source": [
    "type(d1)"
   ]
  },
  {
   "cell_type": "markdown",
   "id": "65756e4c",
   "metadata": {},
   "source": [
    "# FAKTÖRİYEL HESAPLAMA\n"
   ]
  },
  {
   "cell_type": "code",
   "execution_count": 11,
   "id": "a64988b6",
   "metadata": {},
   "outputs": [
    {
     "name": "stdout",
     "output_type": "stream",
     "text": [
      "SAYI: 5\n",
      "5 SAYISININ FAKTÖRİYELİ: 120\n",
      "[1, 2, 3, 4, 5]\n"
     ]
    }
   ],
   "source": [
    "sayi = int(input(\"SAYI: \"))\n",
    "faktoriyel = 1\n",
    "\n",
    "for i in range(1,sayi+1):\n",
    "    faktoriyel=faktoriyel*i\n",
    "    \n",
    "print(\"{0} SAYISININ FAKTÖRİYELİ: {1}\".format(sayi,faktoriyel))\n",
    "print(list(range(1,sayi+1)))    \n"
   ]
  },
  {
   "cell_type": "code",
   "execution_count": null,
   "id": "6ed83f91",
   "metadata": {},
   "outputs": [],
   "source": []
  }
 ],
 "metadata": {
  "kernelspec": {
   "display_name": "Python 3 (ipykernel)",
   "language": "python",
   "name": "python3"
  },
  "language_info": {
   "codemirror_mode": {
    "name": "ipython",
    "version": 3
   },
   "file_extension": ".py",
   "mimetype": "text/x-python",
   "name": "python",
   "nbconvert_exporter": "python",
   "pygments_lexer": "ipython3",
   "version": "3.10.9"
  }
 },
 "nbformat": 4,
 "nbformat_minor": 5
}
